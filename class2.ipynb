{
 "cells": [
  {
   "cell_type": "code",
   "execution_count": 9,
   "id": "2d0e454f-ea42-4662-82bb-a637d2710d8b",
   "metadata": {},
   "outputs": [
    {
     "name": "stdout",
     "output_type": "stream",
     "text": [
      "1*1=1\t1*2=2\t1*3=3\t1*4=4\t1*5=5\t1*6=6\t1*7=7\t1*8=8\t1*9=9\t\n",
      "\t2*2=4\t2*3=6\t2*4=8\t2*5=10\t2*6=12\t2*7=14\t2*8=16\t2*9=18\t\n",
      "\t\t3*3=9\t3*4=12\t3*5=15\t3*6=18\t3*7=21\t3*8=24\t3*9=27\t\n",
      "\t\t\t4*4=16\t4*5=20\t4*6=24\t4*7=28\t4*8=32\t4*9=36\t\n",
      "\t\t\t\t5*5=25\t5*6=30\t5*7=35\t5*8=40\t5*9=45\t\n",
      "\t\t\t\t\t6*6=36\t6*7=42\t6*8=48\t6*9=54\t\n",
      "\t\t\t\t\t\t7*7=49\t7*8=56\t7*9=63\t\n",
      "\t\t\t\t\t\t\t8*8=64\t8*9=72\t\n",
      "\t\t\t\t\t\t\t\t9*9=81\t\n"
     ]
    }
   ],
   "source": [
    "for x in range(1, 10):\n",
    "    for y in range(1, 10):\n",
    "       if (x <= y):\n",
    "           print(f'{x}*{y}={x*y}', end = '\\t')\n",
    "       else:\n",
    "           print('', end='\\t')\n",
    "    print('')"
   ]
  },
  {
   "cell_type": "code",
   "execution_count": 10,
   "id": "6d889730-3d76-431a-9300-57b48250856b",
   "metadata": {},
   "outputs": [],
   "source": [
    "a = [0, 1, 2, 3, 4]"
   ]
  },
  {
   "cell_type": "code",
   "execution_count": 11,
   "id": "8993c30f-dff4-4164-b841-2de730970526",
   "metadata": {},
   "outputs": [
    {
     "data": {
      "text/plain": [
       "[0, 1, 2, 3, 4]"
      ]
     },
     "execution_count": 11,
     "metadata": {},
     "output_type": "execute_result"
    }
   ],
   "source": [
    "a"
   ]
  },
  {
   "cell_type": "code",
   "execution_count": 12,
   "id": "ef393fba-bdf1-478a-a41b-1f96efbba75e",
   "metadata": {},
   "outputs": [],
   "source": [
    "b = a"
   ]
  },
  {
   "cell_type": "code",
   "execution_count": 13,
   "id": "01b1205f-3aa8-43b2-a28e-e8e535166c9b",
   "metadata": {},
   "outputs": [
    {
     "data": {
      "text/plain": [
       "[0, 1, 2, 3, 4]"
      ]
     },
     "execution_count": 13,
     "metadata": {},
     "output_type": "execute_result"
    }
   ],
   "source": [
    "b"
   ]
  },
  {
   "cell_type": "code",
   "execution_count": 14,
   "id": "6860a6c0-11d8-485d-8504-6cb619f89869",
   "metadata": {},
   "outputs": [
    {
     "data": {
      "text/plain": [
       "[100, 1, 2, 3, 4]"
      ]
     },
     "execution_count": 14,
     "metadata": {},
     "output_type": "execute_result"
    }
   ],
   "source": [
    "b[0] = 100\n",
    "b"
   ]
  },
  {
   "cell_type": "code",
   "execution_count": 16,
   "id": "f8dbf1dd-662e-4fa1-bca8-6240abc12338",
   "metadata": {},
   "outputs": [
    {
     "data": {
      "text/plain": [
       "[100, 1, 2, 3, 4]"
      ]
     },
     "execution_count": 16,
     "metadata": {},
     "output_type": "execute_result"
    }
   ],
   "source": [
    "b = a.copy()\n",
    "b"
   ]
  },
  {
   "cell_type": "code",
   "execution_count": 17,
   "id": "23e191a9-0a00-4a14-ba12-cfcc9ff9db44",
   "metadata": {},
   "outputs": [
    {
     "name": "stdout",
     "output_type": "stream",
     "text": [
      "[100, 1, 2, 3, 4] [100, 1, 2, 3, 4]\n"
     ]
    }
   ],
   "source": [
    "b[0] = 100\n",
    "print(a, b)"
   ]
  },
  {
   "cell_type": "code",
   "execution_count": 18,
   "id": "fec12a2d-d25f-4c90-9752-dad23c148cc8",
   "metadata": {},
   "outputs": [
    {
     "name": "stdout",
     "output_type": "stream",
     "text": [
      "[0, 1, 2, 3, 4] [100, 1, 2, 3, 4]\n"
     ]
    }
   ],
   "source": [
    "a = [0, 1, 2, 3, 4]\n",
    "b = a.copy()\n",
    "b[0] = 100\n",
    "print(a, b)"
   ]
  },
  {
   "cell_type": "code",
   "execution_count": 21,
   "id": "c25c5f6d-83f8-4e9e-979a-ba44917ef96e",
   "metadata": {},
   "outputs": [
    {
     "name": "stdout",
     "output_type": "stream",
     "text": [
      "[1, 2, [3, 4]] [1, 2, [3, 4]]\n"
     ]
    }
   ],
   "source": [
    "a = [1, 2, [3, 4]]\n",
    "b = a.copy()\n",
    "print(a,b)"
   ]
  },
  {
   "cell_type": "code",
   "execution_count": 23,
   "id": "f1b60ee7-62fc-4e77-a474-a27af21d1477",
   "metadata": {},
   "outputs": [
    {
     "name": "stdout",
     "output_type": "stream",
     "text": [
      "[1, 2, [3, 4]] [0, 2, [3, 4]]\n"
     ]
    }
   ],
   "source": [
    "b[0] = 0\n",
    "print(a,b)"
   ]
  },
  {
   "cell_type": "code",
   "execution_count": 24,
   "id": "5fda4b0a-e28a-4493-a54c-7617e1b07e05",
   "metadata": {},
   "outputs": [
    {
     "name": "stdout",
     "output_type": "stream",
     "text": [
      "[1, 2, [30, 4]] [0, 2, [30, 4]]\n"
     ]
    }
   ],
   "source": [
    "b[2][0] = 30\n",
    "print(a, b)"
   ]
  },
  {
   "cell_type": "code",
   "execution_count": 25,
   "id": "96389925-a147-4586-98d2-0d90cb4e5b51",
   "metadata": {},
   "outputs": [
    {
     "name": "stdout",
     "output_type": "stream",
     "text": [
      "[1, 2, [3, 4]] [1, 2, [30, 4]]\n"
     ]
    }
   ],
   "source": [
    "from copy import deepcopy\n",
    "a = [1,2,[3,4]]\n",
    "b= deepcopy(a)\n",
    "b[2][0] = 30\n",
    "print(a,b)"
   ]
  },
  {
   "cell_type": "code",
   "execution_count": 26,
   "id": "2208e796-edc5-48b1-af40-4ad21b7b6a50",
   "metadata": {},
   "outputs": [
    {
     "data": {
      "text/plain": [
       "5"
      ]
     },
     "execution_count": 26,
     "metadata": {},
     "output_type": "execute_result"
    }
   ],
   "source": [
    "len('hello')"
   ]
  },
  {
   "cell_type": "code",
   "execution_count": 27,
   "id": "b60e737a-5e16-476c-87c9-e1b57a380afe",
   "metadata": {},
   "outputs": [
    {
     "ename": "ValueError",
     "evalue": "5 is not in list",
     "output_type": "error",
     "traceback": [
      "\u001b[1;31m---------------------------------------------------------------------------\u001b[0m",
      "\u001b[1;31mValueError\u001b[0m                                Traceback (most recent call last)",
      "Cell \u001b[1;32mIn[27], line 1\u001b[0m\n\u001b[1;32m----> 1\u001b[0m a\u001b[38;5;241m.\u001b[39mindex(\u001b[38;5;241m5\u001b[39m)\n",
      "\u001b[1;31mValueError\u001b[0m: 5 is not in list"
     ]
    }
   ],
   "source": [
    "a.index(5)"
   ]
  },
  {
   "cell_type": "code",
   "execution_count": 28,
   "id": "f6122528-d4fe-4812-9b00-e656f693ec3e",
   "metadata": {},
   "outputs": [
    {
     "data": {
      "text/plain": [
       "1"
      ]
     },
     "execution_count": 28,
     "metadata": {},
     "output_type": "execute_result"
    }
   ],
   "source": [
    "a.index(2)"
   ]
  },
  {
   "cell_type": "code",
   "execution_count": 29,
   "id": "6f1b757a-d1c2-431e-8737-d95802d57c3d",
   "metadata": {},
   "outputs": [
    {
     "data": {
      "text/plain": [
       "4"
      ]
     },
     "execution_count": 29,
     "metadata": {},
     "output_type": "execute_result"
    }
   ],
   "source": [
    "a = [4,1,2,3,4,5,6,7]\n",
    "a.index(4,1)"
   ]
  },
  {
   "cell_type": "code",
   "execution_count": 30,
   "id": "e0d0d5aa-e825-467d-8bad-75c243205c95",
   "metadata": {},
   "outputs": [
    {
     "name": "stdout",
     "output_type": "stream",
     "text": [
      "not found\n"
     ]
    }
   ],
   "source": [
    "if 9 in a:\n",
    "    print('9 is in this list')\n",
    "else:\n",
    "    print('not found')"
   ]
  },
  {
   "cell_type": "code",
   "execution_count": 32,
   "id": "8d949f5d-1db5-4954-9a20-0b981e5d7f18",
   "metadata": {},
   "outputs": [
    {
     "data": {
      "text/plain": [
       "[4, 1, 2, 3, 4, 5, 6, 7, [1, 2]]"
      ]
     },
     "execution_count": 32,
     "metadata": {},
     "output_type": "execute_result"
    }
   ],
   "source": [
    "a.append([1,2])\n",
    "a"
   ]
  },
  {
   "cell_type": "code",
   "execution_count": 33,
   "id": "694d0456-a229-4044-b801-9d3517871dd5",
   "metadata": {},
   "outputs": [],
   "source": [
    "a.extend([1,2])"
   ]
  },
  {
   "cell_type": "code",
   "execution_count": 34,
   "id": "4ed84ed2-b447-4e93-a437-4d3e24fc2025",
   "metadata": {},
   "outputs": [
    {
     "data": {
      "text/plain": [
       "[4, 1, 2, 3, 4, 5, 6, 7, [1, 2], 1, 2]"
      ]
     },
     "execution_count": 34,
     "metadata": {},
     "output_type": "execute_result"
    }
   ],
   "source": [
    "a"
   ]
  },
  {
   "cell_type": "code",
   "execution_count": 35,
   "id": "3a5d1af1-20c5-49d1-8871-3cbc90e01556",
   "metadata": {},
   "outputs": [
    {
     "name": "stdout",
     "output_type": "stream",
     "text": [
      "[0, 1, 2, 3, 4]\n"
     ]
    }
   ],
   "source": [
    "a = [0,1,2]\n",
    "b = [3,4]\n",
    "a += b\n",
    "print(a)"
   ]
  },
  {
   "cell_type": "code",
   "execution_count": 36,
   "id": "6fab1285-ef68-4480-972b-7f67fd2d449b",
   "metadata": {},
   "outputs": [
    {
     "name": "stdout",
     "output_type": "stream",
     "text": [
      "[0, 1, 2, 3, 4]\n"
     ]
    }
   ],
   "source": [
    "a = [0,1,2]\n",
    "b = [3,4]\n",
    "a = a+b\n",
    "print(a)"
   ]
  },
  {
   "cell_type": "code",
   "execution_count": 38,
   "id": "a6a1938d-dd1f-493f-a9e8-9d764e0019ef",
   "metadata": {},
   "outputs": [
    {
     "name": "stdout",
     "output_type": "stream",
     "text": [
      "[1, 2, 3, 4]\n",
      "[4, 3, 2, 1]\n"
     ]
    }
   ],
   "source": [
    "b = list(range(1,5))\n",
    "print(b)\n",
    "b.reverse()\n",
    "print(b)"
   ]
  },
  {
   "cell_type": "code",
   "execution_count": 40,
   "id": "72297b40-437d-46fa-b409-2d102b1c4340",
   "metadata": {},
   "outputs": [
    {
     "name": "stdout",
     "output_type": "stream",
     "text": [
      "None\n"
     ]
    }
   ],
   "source": [
    "b = list(range(1,5))\n",
    "a = b.reverse()\n",
    "print(a)"
   ]
  },
  {
   "cell_type": "code",
   "execution_count": 44,
   "id": "fdb24a9b-b275-4278-af74-8916d5d8af97",
   "metadata": {},
   "outputs": [
    {
     "name": "stdout",
     "output_type": "stream",
     "text": [
      "[55, 43, 86, 21, 5, 98, 15, 58, 48, 67, 12, 67, 39, 68, 42, 16, 99, 59, 84, 14, 22, 43, 91, 67, 25, 94, 84, 5, 24, 28, 57, 2, 54, 5, 72, 29, 68, 11, 10, 15, 63, 61, 3, 82, 86, 19, 25, 13, 35, 65, 75, 69, 9, 65, 100, 29, 26, 59, 86, 5, 48, 62, 24, 15, 66, 6, 4, 16, 58, 96, 75, 48, 43, 96, 81, 52, 60, 79, 41, 26, 71, 66, 17, 99, 47, 82, 97, 93, 12, 75, 100, 86, 69, 30, 12, 41, 47, 58, 6, 64]\n"
     ]
    }
   ],
   "source": [
    "import random\n",
    "a = list()\n",
    "for x in range(100):\n",
    "    a.append(random.randint(0,100))\n",
    "print(a)"
   ]
  },
  {
   "cell_type": "code",
   "execution_count": 46,
   "id": "13f50dfc-904e-408c-bcd3-53c9ef039d61",
   "metadata": {},
   "outputs": [
    {
     "name": "stdout",
     "output_type": "stream",
     "text": [
      "[38, 78, 2, 25, 9, 91, 72, 77, 97, 76, 2, 41, 9, 23, 99, 79, 79, 98, 20, 47, 9, 1, 18, 20, 69, 23, 65, 55, 4, 77, 66, 95, 88, 78, 88, 84, 86, 85, 76, 100, 44, 58, 89, 21, 47, 59, 62, 76, 78, 34, 92, 81, 53, 36, 39, 46, 91, 26, 30, 30, 62, 6, 58, 46, 53, 20, 87, 7, 74, 3, 13, 61, 94, 77, 32, 79, 100, 37, 56, 25, 100, 93, 78, 33, 30, 18, 98, 49, 67, 42, 86, 52, 11, 90, 45, 55, 65, 90, 53, 66]\n"
     ]
    }
   ],
   "source": [
    "import random\n",
    "a = [None] * 100\n",
    "for x in range(100):\n",
    "    a[x] = random.randint(0,100)\n",
    "print(a)"
   ]
  },
  {
   "cell_type": "code",
   "execution_count": 47,
   "id": "c585d8ba-73f6-48fc-8a1f-308bdfbeed9c",
   "metadata": {},
   "outputs": [
    {
     "name": "stdout",
     "output_type": "stream",
     "text": [
      "1 100 100 5552\n"
     ]
    }
   ],
   "source": [
    "print(min(a),max(a),len(a),sum(a))"
   ]
  },
  {
   "cell_type": "code",
   "execution_count": 48,
   "id": "52d1c981-9f86-4720-bbea-3e0b113f9589",
   "metadata": {},
   "outputs": [
    {
     "data": {
      "text/plain": [
       "5050"
      ]
     },
     "execution_count": 48,
     "metadata": {},
     "output_type": "execute_result"
    }
   ],
   "source": [
    "sum(range(1,101))"
   ]
  },
  {
   "cell_type": "code",
   "execution_count": 49,
   "id": "d9f3315f-e09c-4e33-8d77-23ca63f395f3",
   "metadata": {},
   "outputs": [
    {
     "name": "stdout",
     "output_type": "stream",
     "text": [
      "[1, 2, 3, 4]\n"
     ]
    }
   ],
   "source": [
    "a = list(range(1,5))\n",
    "print(a)"
   ]
  },
  {
   "cell_type": "code",
   "execution_count": 50,
   "id": "3e1eba24-e453-4b24-ae96-1131208875ae",
   "metadata": {},
   "outputs": [
    {
     "name": "stdout",
     "output_type": "stream",
     "text": [
      "[1, 2, 3, 4, 5]\n"
     ]
    }
   ],
   "source": [
    "a.append(5)\n",
    "print(a)"
   ]
  },
  {
   "cell_type": "code",
   "execution_count": 51,
   "id": "6a600bca-41ed-463e-9151-9b6cdec99132",
   "metadata": {},
   "outputs": [
    {
     "name": "stdout",
     "output_type": "stream",
     "text": [
      "5\n"
     ]
    }
   ],
   "source": [
    "print(a.pop())\n"
   ]
  },
  {
   "cell_type": "code",
   "execution_count": 54,
   "id": "5300ecd6-e846-43a3-9d30-33d1863aa9d0",
   "metadata": {},
   "outputs": [
    {
     "name": "stdin",
     "output_type": "stream",
     "text": [
      "please input an expressin: {()]}\n"
     ]
    },
    {
     "name": "stdout",
     "output_type": "stream",
     "text": [
      "not match\n"
     ]
    }
   ],
   "source": [
    "expression = input('please input an expressin:')\n",
    "my_stack = list()\n",
    "left_quotes = '{[('\n",
    "right_quotes = ')]}'\n",
    "\n",
    "not_match = False\n",
    "for ch in expression:\n",
    "    if ch in left_quotes:\n",
    "        my_stack.append(ch)\n",
    "    elif ch in right_quotes:\n",
    "        if my_stack == {}:\n",
    "            not_match = True\n",
    "            break\n",
    "        else:\n",
    "            left_ch = my_stack.pop()\n",
    "            if left_quotes.index(left_ch) != right_quotes.index(ch):\n",
    "                not_match = True\n",
    "                break\n",
    "if not_match or my_stack != []:\n",
    "    print('not match')\n",
    "else:\n",
    "    print('match')"
   ]
  },
  {
   "cell_type": "code",
   "execution_count": 63,
   "id": "46b9b775-ec93-4cdd-bfa8-8637935baabe",
   "metadata": {},
   "outputs": [
    {
     "name": "stdout",
     "output_type": "stream",
     "text": [
      "[1659, 1682, 1647, 1665, 1695, 1652]\n"
     ]
    },
    {
     "data": {
      "image/png": "[encoded data removed]",
      "text/plain": [
       "<Figure size 640x480 with 1 Axes>"
      ]
     },
     "metadata": {},
     "output_type": "display_data"
    }
   ],
   "source": [
    "import random\n",
    "import matplotlib.pyplot as plt\n",
    "\n",
    "count = [0] * 6\n",
    "for _ in range(10000):\n",
    "    count[random.randint(0,5)] += 1\n",
    "\n",
    "print(count)\n",
    "plt.bar(range(1,7),count)\n",
    "plt.show()"
   ]
  },
  {
   "cell_type": "code",
   "execution_count": 64,
   "id": "3b5dfb2d-891c-47e7-a856-e0c56b6404e3",
   "metadata": {},
   "outputs": [
    {
     "data": {
      "text/plain": [
       "[1, 2, 3, 4, 5, 6, 7, 8, 9]"
      ]
     },
     "execution_count": 64,
     "metadata": {},
     "output_type": "execute_result"
    }
   ],
   "source": [
    "a = list(range(1,10))\n",
    "a"
   ]
  },
  {
   "cell_type": "code",
   "execution_count": 66,
   "id": "5c707b87-318c-496d-b3f5-bcebe8db7ff4",
   "metadata": {},
   "outputs": [
    {
     "name": "stdout",
     "output_type": "stream",
     "text": [
      "[1, 4, 9, 16, 25, 36, 49, 64, 81]\n"
     ]
    }
   ],
   "source": [
    "b = []\n",
    "for x in a:\n",
    "    b.append(x * x)\n",
    "print(b)"
   ]
  },
  {
   "cell_type": "code",
   "execution_count": 67,
   "id": "6bd5e702-5d3f-4da2-8d2b-dfeb71d47786",
   "metadata": {},
   "outputs": [
    {
     "data": {
      "text/plain": [
       "[1, 4, 9, 16, 25, 36, 49, 64, 81]"
      ]
     },
     "execution_count": 67,
     "metadata": {},
     "output_type": "execute_result"
    }
   ],
   "source": [
    "b = [x *x for x in range(1,10)]\n",
    "b"
   ]
  },
  {
   "cell_type": "code",
   "execution_count": 72,
   "id": "7e408d18-65b5-41bd-8845-d16b7acd4130",
   "metadata": {},
   "outputs": [
    {
     "name": "stdout",
     "output_type": "stream",
     "text": [
      "[3, 6, 9, 12, 15, 18, 21, 24, 27, 30, 33, 36, 39, 42, 45, 48, 51, 54, 57, 60, 63, 66, 69, 72, 75, 78, 81, 84, 87, 90, 93, 96, 99]\n"
     ]
    }
   ],
   "source": [
    "a = [x for x in range(1, 101) if x % 3 == 0]\n",
    "print(a)"
   ]
  },
  {
   "cell_type": "code",
   "execution_count": null,
   "id": "ba738dce-ac05-42c5-9407-5888e3a64be5",
   "metadata": {},
   "outputs": [],
   "source": []
  },
  {
   "cell_type": "code",
   "execution_count": null,
   "id": "080a2a75-6bb0-434d-88e4-535fe7c494e1",
   "metadata": {},
   "outputs": [],
   "source": []
  }
 ],
 "metadata": {
  "kernelspec": {
   "display_name": "Python 3 (ipykernel)",
   "language": "python",
   "name": "python3"
  },
  "language_info": {
   "codemirror_mode": {
    "name": "ipython",
    "version": 3
   },
   "file_extension": ".py",
   "mimetype": "text/x-python",
   "name": "python",
   "nbconvert_exporter": "python",
   "pygments_lexer": "ipython3",
   "version": "3.12.4"
  }
 },
 "nbformat": 4,
 "nbformat_minor": 5
}
